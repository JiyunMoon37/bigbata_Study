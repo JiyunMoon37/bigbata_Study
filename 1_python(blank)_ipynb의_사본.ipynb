{
  "nbformat": 4,
  "nbformat_minor": 0,
  "metadata": {
    "colab": {
      "provenance": [],
      "include_colab_link": true
    },
    "kernelspec": {
      "name": "python3",
      "display_name": "Python 3"
    },
    "language_info": {
      "name": "python"
    }
  },
  "cells": [
    {
      "cell_type": "markdown",
      "metadata": {
        "id": "view-in-github",
        "colab_type": "text"
      },
      "source": [
        "<a href=\"https://colab.research.google.com/github/JiyunMoon37/bigbata_Study/blob/main/1_python(blank)_ipynb%EC%9D%98_%EC%82%AC%EB%B3%B8.ipynb\" target=\"_parent\"><img src=\"https://colab.research.google.com/assets/colab-badge.svg\" alt=\"Open In Colab\"/></a>"
      ]
    },
    {
      "cell_type": "markdown",
      "metadata": {
        "id": "k2ulWwXXlIl8"
      },
      "source": [
        "# 파이썬(python)\n",
        "- 노트북 링크: bit.ly/3Fm2u3Q (Drive로 복사)\n",
        "- 실행: 실행 아이콘 또는 Shift + Enter"
      ]
    },
    {
      "cell_type": "markdown",
      "metadata": {
        "id": "bVEmheaVsfb-"
      },
      "source": [
        "# 데이터 분석을 위한 파이썬 기초1"
      ]
    },
    {
      "cell_type": "markdown",
      "metadata": {
        "id": "s8BrOHmkQtse"
      },
      "source": [
        "- 직접 타이핑 하면서 학습\n",
        "- 본인 속도에 맞게 동영상 속도 조절"
      ]
    },
    {
      "cell_type": "markdown",
      "metadata": {
        "id": "ZZo_KUGc2vcb"
      },
      "source": [
        "## 출력\n",
        "- print괄호 안에 숫자 또는 문자 (단 문자일 경우 ' 또는 \" 활용)"
      ]
    },
    {
      "cell_type": "code",
      "metadata": {
        "id": "LaqOXQChbEHz",
        "colab": {
          "base_uri": "https://localhost:8080/"
        },
        "outputId": "8da5310a-8f4d-48ea-fe4a-2bac83628e9d"
      },
      "source": [
        "# 숫자\n",
        "print(45)"
      ],
      "execution_count": 1,
      "outputs": [
        {
          "output_type": "stream",
          "name": "stdout",
          "text": [
            "45\n"
          ]
        }
      ]
    },
    {
      "cell_type": "code",
      "metadata": {
        "id": "ws_KrsY5215g",
        "colab": {
          "base_uri": "https://localhost:8080/"
        },
        "outputId": "7a29f424-d123-4be8-b2d3-7b61e7e77e15"
      },
      "source": [
        "# 문자 (큰따옴표)\n",
        "print(\"happy\")"
      ],
      "execution_count": 2,
      "outputs": [
        {
          "output_type": "stream",
          "name": "stdout",
          "text": [
            "happy\n"
          ]
        }
      ]
    },
    {
      "cell_type": "code",
      "metadata": {
        "id": "I72rwMzUl0ru",
        "colab": {
          "base_uri": "https://localhost:8080/"
        },
        "outputId": "391930d6-be10-4b2f-95f1-51202bb8eabb"
      },
      "source": [
        "# 문자 (작은따옴표)\n",
        "print('happy')"
      ],
      "execution_count": 5,
      "outputs": [
        {
          "output_type": "stream",
          "name": "stdout",
          "text": [
            "happy\n"
          ]
        }
      ]
    },
    {
      "cell_type": "code",
      "source": [
        "456"
      ],
      "metadata": {
        "colab": {
          "base_uri": "https://localhost:8080/"
        },
        "id": "NELjJVNlAhV7",
        "outputId": "b624dbaa-861e-4fd2-93a2-b3bc84a0c325"
      },
      "execution_count": 7,
      "outputs": [
        {
          "output_type": "execute_result",
          "data": {
            "text/plain": [
              "456"
            ]
          },
          "metadata": {},
          "execution_count": 7
        }
      ]
    },
    {
      "cell_type": "markdown",
      "metadata": {
        "id": "Q7nGnhavkTta"
      },
      "source": [
        "## 주석\n",
        "- #을 앞에 사용하면 #뒤에 줄(내용)은 무시함"
      ]
    },
    {
      "cell_type": "code",
      "metadata": {
        "id": "azuDs-2YkTGj"
      },
      "source": [
        "# 주석입니다.\n",
        "# print(\"파이썬 공부 중\")\n",
        "# print(\"파이썬은 쉽다\")"
      ],
      "execution_count": null,
      "outputs": []
    },
    {
      "cell_type": "markdown",
      "metadata": {
        "id": "qpEqrNy3k0WZ"
      },
      "source": [
        "- 한 줄만 주석 처리(해제) : Ctrl + / (맥 Command + /)\n",
        "- 여러 줄 주석 처리(해제) : 블록지정 후 Ctrl + / (맥 Command + /)"
      ]
    },
    {
      "cell_type": "markdown",
      "metadata": {
        "id": "rPXrOqw23eYk"
      },
      "source": [
        "## 산술연산자\n",
        "- +, -, *, /\n",
        "- //, %, **"
      ]
    },
    {
      "cell_type": "code",
      "metadata": {
        "id": "kL1pwn9g3gSM",
        "colab": {
          "base_uri": "https://localhost:8080/"
        },
        "outputId": "c797c886-8695-47bc-bbe6-36af9a246342"
      },
      "source": [
        "# 정수 + 정수\n",
        "print(2+3)"
      ],
      "execution_count": 8,
      "outputs": [
        {
          "output_type": "stream",
          "name": "stdout",
          "text": [
            "5\n"
          ]
        }
      ]
    },
    {
      "cell_type": "code",
      "metadata": {
        "id": "o9T6KKrC3gVj",
        "colab": {
          "base_uri": "https://localhost:8080/"
        },
        "outputId": "4b114dda-f4a2-4af8-dbc2-2d5ec98531a0"
      },
      "source": [
        "# 실수 + 정수\n",
        "print(3.44+5)"
      ],
      "execution_count": 9,
      "outputs": [
        {
          "output_type": "stream",
          "name": "stdout",
          "text": [
            "8.44\n"
          ]
        }
      ]
    },
    {
      "cell_type": "code",
      "metadata": {
        "id": "QSZeZ8D-3gZQ",
        "colab": {
          "base_uri": "https://localhost:8080/"
        },
        "outputId": "0cbb9fe6-2c1d-4ca5-fba0-b53c33a8e4f9"
      },
      "source": [
        "# 문자열 더하기(합친다)\n",
        "print(\"he\"+\"llo\")"
      ],
      "execution_count": 10,
      "outputs": [
        {
          "output_type": "stream",
          "name": "stdout",
          "text": [
            "hello\n"
          ]
        }
      ]
    },
    {
      "cell_type": "code",
      "metadata": {
        "id": "aEqCTZCfs7zB",
        "colab": {
          "base_uri": "https://localhost:8080/"
        },
        "outputId": "0d106f70-18d7-499b-a664-a59737a2b6bb"
      },
      "source": [
        "# 몫\n",
        "print(16//3)"
      ],
      "execution_count": 11,
      "outputs": [
        {
          "output_type": "stream",
          "name": "stdout",
          "text": [
            "5\n"
          ]
        }
      ]
    },
    {
      "cell_type": "code",
      "metadata": {
        "id": "tLhgikIPs_g5",
        "colab": {
          "base_uri": "https://localhost:8080/"
        },
        "outputId": "defe2859-4e0a-47ea-935f-41902031acaf"
      },
      "source": [
        "# 나머지\n",
        "print(16%3)"
      ],
      "execution_count": 12,
      "outputs": [
        {
          "output_type": "stream",
          "name": "stdout",
          "text": [
            "1\n"
          ]
        }
      ]
    },
    {
      "cell_type": "code",
      "metadata": {
        "id": "ORtvddjetFxD",
        "colab": {
          "base_uri": "https://localhost:8080/"
        },
        "outputId": "c3f16404-80a1-4a45-b518-c62ca7f13c61"
      },
      "source": [
        "# 제곱\n",
        "print(4**2)"
      ],
      "execution_count": 13,
      "outputs": [
        {
          "output_type": "stream",
          "name": "stdout",
          "text": [
            "16\n"
          ]
        }
      ]
    },
    {
      "cell_type": "markdown",
      "metadata": {
        "id": "MjEH32hddNoh"
      },
      "source": [
        "## 자료형(타입)\n",
        "- 정수형: int\n",
        "- 실수형: float\n",
        "- 문자열: str\n",
        "- 참/거짓: bool"
      ]
    },
    {
      "cell_type": "code",
      "metadata": {
        "id": "Xx1sQev5dOuO",
        "colab": {
          "base_uri": "https://localhost:8080/"
        },
        "outputId": "df05e203-bf87-4016-b3e2-fea16e69c9a4"
      },
      "source": [
        "# 정수형\n",
        "type(3)"
      ],
      "execution_count": 14,
      "outputs": [
        {
          "output_type": "execute_result",
          "data": {
            "text/plain": [
              "int"
            ]
          },
          "metadata": {},
          "execution_count": 14
        }
      ]
    },
    {
      "cell_type": "code",
      "metadata": {
        "id": "SBbgexcCdVUH",
        "colab": {
          "base_uri": "https://localhost:8080/"
        },
        "outputId": "7f00d092-746d-4c22-9836-b05170de2874"
      },
      "source": [
        "# 실수형\n",
        "type(1.1)"
      ],
      "execution_count": 15,
      "outputs": [
        {
          "output_type": "execute_result",
          "data": {
            "text/plain": [
              "float"
            ]
          },
          "metadata": {},
          "execution_count": 15
        }
      ]
    },
    {
      "cell_type": "code",
      "metadata": {
        "id": "KdElWU6bdWj6",
        "colab": {
          "base_uri": "https://localhost:8080/"
        },
        "outputId": "bdbfbd48-d825-4a4a-b7ee-beea5ccb04d2"
      },
      "source": [
        "# 문자열\n",
        "type('hi')"
      ],
      "execution_count": 16,
      "outputs": [
        {
          "output_type": "execute_result",
          "data": {
            "text/plain": [
              "str"
            ]
          },
          "metadata": {},
          "execution_count": 16
        }
      ]
    },
    {
      "cell_type": "code",
      "metadata": {
        "id": "aM8UgBYSmeEg",
        "colab": {
          "base_uri": "https://localhost:8080/"
        },
        "outputId": "2f1eb79f-7f83-448e-fa7d-c4e7b782e5f9"
      },
      "source": [
        "# 참/거짓\n",
        "type(True)\n",
        "type(False)"
      ],
      "execution_count": 19,
      "outputs": [
        {
          "output_type": "execute_result",
          "data": {
            "text/plain": [
              "bool"
            ]
          },
          "metadata": {},
          "execution_count": 19
        }
      ]
    },
    {
      "cell_type": "markdown",
      "metadata": {
        "id": "F6_6KAM-31QN"
      },
      "source": [
        "## 변수"
      ]
    },
    {
      "cell_type": "code",
      "metadata": {
        "id": "6ouKLr5z334V"
      },
      "source": [
        "# box변수 값에 10 대입\n",
        "box = 10"
      ],
      "execution_count": 20,
      "outputs": []
    },
    {
      "cell_type": "code",
      "metadata": {
        "id": "hnIbRIsv339m",
        "colab": {
          "base_uri": "https://localhost:8080/"
        },
        "outputId": "70b01842-9405-4d5e-e990-02d4824132f3"
      },
      "source": [
        "# box변수 값 출력\n",
        "print(box)"
      ],
      "execution_count": 21,
      "outputs": [
        {
          "output_type": "stream",
          "name": "stdout",
          "text": [
            "10\n"
          ]
        }
      ]
    },
    {
      "cell_type": "code",
      "metadata": {
        "id": "lqmZl6Bd34At"
      },
      "source": [
        "# box2변수 값에 20 대입\n",
        "box2 = 20"
      ],
      "execution_count": 22,
      "outputs": []
    },
    {
      "cell_type": "code",
      "metadata": {
        "id": "KMUvATVm34Dw",
        "colab": {
          "base_uri": "https://localhost:8080/"
        },
        "outputId": "6a0c204f-599f-4f8c-e3cb-952075cd6fd4"
      },
      "source": [
        "# 변수(10) + 변수(20)\n",
        "print(box + box2)"
      ],
      "execution_count": 23,
      "outputs": [
        {
          "output_type": "stream",
          "name": "stdout",
          "text": [
            "30\n"
          ]
        }
      ]
    },
    {
      "cell_type": "code",
      "metadata": {
        "id": "lFcDCOQT5P1A",
        "colab": {
          "base_uri": "https://localhost:8080/"
        },
        "outputId": "d0e9b2e4-fed1-4371-8680-37f7c394e014"
      },
      "source": [
        "# 30 = 10 + 20\n",
        "box3 = box + box2\n",
        "box3"
      ],
      "execution_count": 25,
      "outputs": [
        {
          "output_type": "execute_result",
          "data": {
            "text/plain": [
              "30"
            ]
          },
          "metadata": {},
          "execution_count": 25
        }
      ]
    },
    {
      "cell_type": "code",
      "metadata": {
        "id": "UiCS5dfD9o8I",
        "colab": {
          "base_uri": "https://localhost:8080/"
        },
        "outputId": "1016d8e5-9c10-497d-f712-1388bef840d8"
      },
      "source": [
        "# 20 = 10 + 10\n",
        "box = box + box\n",
        "box"
      ],
      "execution_count": 27,
      "outputs": [
        {
          "output_type": "execute_result",
          "data": {
            "text/plain": [
              "20"
            ]
          },
          "metadata": {},
          "execution_count": 27
        }
      ]
    },
    {
      "cell_type": "markdown",
      "metadata": {
        "id": "PW5uDK2z4uSS"
      },
      "source": [
        "##  형변환"
      ]
    },
    {
      "cell_type": "code",
      "metadata": {
        "id": "egzIOnas4wxd",
        "colab": {
          "base_uri": "https://localhost:8080/"
        },
        "outputId": "fca5fdcc-2d18-4bd9-d9b3-879624ee2f79"
      },
      "source": [
        "# str(문자)\n",
        "box = '15'\n",
        "type(box)"
      ],
      "execution_count": 28,
      "outputs": [
        {
          "output_type": "execute_result",
          "data": {
            "text/plain": [
              "str"
            ]
          },
          "metadata": {},
          "execution_count": 28
        }
      ]
    },
    {
      "cell_type": "code",
      "source": [],
      "metadata": {
        "id": "_3g_HxnrDuFE"
      },
      "execution_count": null,
      "outputs": []
    },
    {
      "cell_type": "code",
      "source": [
        "box + \"10\""
      ],
      "metadata": {
        "colab": {
          "base_uri": "https://localhost:8080/",
          "height": 36
        },
        "id": "X8meUZTVDu0g",
        "outputId": "81d4b16a-429f-4c53-e5c2-d9fd5c89cf67"
      },
      "execution_count": 30,
      "outputs": [
        {
          "output_type": "execute_result",
          "data": {
            "text/plain": [
              "'1510'"
            ],
            "application/vnd.google.colaboratory.intrinsic+json": {
              "type": "string"
            }
          },
          "metadata": {},
          "execution_count": 30
        }
      ]
    },
    {
      "cell_type": "code",
      "source": [
        "box = int(box) + 10"
      ],
      "metadata": {
        "id": "iyfI_79kEHR3"
      },
      "execution_count": 33,
      "outputs": []
    },
    {
      "cell_type": "code",
      "source": [
        "type(box)"
      ],
      "metadata": {
        "colab": {
          "base_uri": "https://localhost:8080/"
        },
        "id": "9DWi0N9RENu1",
        "outputId": "3c250b02-8dd8-4b2a-9c35-2759ac90461d"
      },
      "execution_count": 34,
      "outputs": [
        {
          "output_type": "execute_result",
          "data": {
            "text/plain": [
              "int"
            ]
          },
          "metadata": {},
          "execution_count": 34
        }
      ]
    },
    {
      "cell_type": "code",
      "metadata": {
        "id": "CPIKv_bFp3Yu",
        "colab": {
          "base_uri": "https://localhost:8080/"
        },
        "outputId": "cb68f025-58fd-481e-aef7-c20a229cd2b7"
      },
      "source": [
        "# str -> int(숫자)\n",
        "type(str(box))"
      ],
      "execution_count": 35,
      "outputs": [
        {
          "output_type": "execute_result",
          "data": {
            "text/plain": [
              "str"
            ]
          },
          "metadata": {},
          "execution_count": 35
        }
      ]
    },
    {
      "cell_type": "code",
      "metadata": {
        "id": "n17X9ikmqDn7"
      },
      "source": [
        "# type(str(box))\n"
      ],
      "execution_count": null,
      "outputs": []
    },
    {
      "cell_type": "markdown",
      "metadata": {
        "id": "_zM17gMJ5t5p"
      },
      "source": [
        "## 비교연산자"
      ]
    },
    {
      "cell_type": "code",
      "metadata": {
        "id": "fE2S36lStvaa",
        "colab": {
          "base_uri": "https://localhost:8080/"
        },
        "outputId": "cdc4b0bc-5f19-4193-81fc-0bb0772d7b2c"
      },
      "source": [
        "# 크다(참)\n",
        "10 > 5"
      ],
      "execution_count": 36,
      "outputs": [
        {
          "output_type": "execute_result",
          "data": {
            "text/plain": [
              "True"
            ]
          },
          "metadata": {},
          "execution_count": 36
        }
      ]
    },
    {
      "cell_type": "code",
      "metadata": {
        "id": "tD-UPP7D5GYL",
        "colab": {
          "base_uri": "https://localhost:8080/"
        },
        "outputId": "6fa74753-e1da-445e-8703-1fd740c6ee46"
      },
      "source": [
        "# 작다\n",
        "10 < 5"
      ],
      "execution_count": 37,
      "outputs": [
        {
          "output_type": "execute_result",
          "data": {
            "text/plain": [
              "False"
            ]
          },
          "metadata": {},
          "execution_count": 37
        }
      ]
    },
    {
      "cell_type": "code",
      "metadata": {
        "id": "rfrS5wNA5jig",
        "colab": {
          "base_uri": "https://localhost:8080/"
        },
        "outputId": "2367a534-98bc-4950-aa4a-30507afa6978"
      },
      "source": [
        "# 같거나 크다\n",
        "10 >= 5"
      ],
      "execution_count": 38,
      "outputs": [
        {
          "output_type": "execute_result",
          "data": {
            "text/plain": [
              "True"
            ]
          },
          "metadata": {},
          "execution_count": 38
        }
      ]
    },
    {
      "cell_type": "code",
      "metadata": {
        "id": "lIUab7Mq5Ghf",
        "colab": {
          "base_uri": "https://localhost:8080/"
        },
        "outputId": "1205cfd8-833c-485a-8624-e5cb058a7c7f"
      },
      "source": [
        "# 같다\n",
        "10 == 5"
      ],
      "execution_count": 39,
      "outputs": [
        {
          "output_type": "execute_result",
          "data": {
            "text/plain": [
              "False"
            ]
          },
          "metadata": {},
          "execution_count": 39
        }
      ]
    },
    {
      "cell_type": "code",
      "metadata": {
        "id": "_6kQowYCguce",
        "colab": {
          "base_uri": "https://localhost:8080/"
        },
        "outputId": "e7b40868-0241-4d5c-8bf8-03690d279549"
      },
      "source": [
        "# 같지 않다\n",
        "10 != 5"
      ],
      "execution_count": 40,
      "outputs": [
        {
          "output_type": "execute_result",
          "data": {
            "text/plain": [
              "True"
            ]
          },
          "metadata": {},
          "execution_count": 40
        }
      ]
    },
    {
      "cell_type": "code",
      "metadata": {
        "id": "Ih3z-dslAF1Z",
        "colab": {
          "base_uri": "https://localhost:8080/"
        },
        "outputId": "b97b3bc6-9bcb-4ba2-dd72-6641d41bdaa4"
      },
      "source": [
        "# 같다\n",
        "# a = 10\n",
        "# b = 10\n",
        "a = 10\n",
        "b = 10\n",
        "a == b"
      ],
      "execution_count": 42,
      "outputs": [
        {
          "output_type": "execute_result",
          "data": {
            "text/plain": [
              "True"
            ]
          },
          "metadata": {},
          "execution_count": 42
        }
      ]
    },
    {
      "cell_type": "code",
      "metadata": {
        "id": "jUrfhIkmAF-K",
        "colab": {
          "base_uri": "https://localhost:8080/"
        },
        "outputId": "1cb33df1-fd24-445b-ab4c-dcbdea8b94cd"
      },
      "source": [
        "# 같거나 크다\n",
        "a >= b"
      ],
      "execution_count": 43,
      "outputs": [
        {
          "output_type": "execute_result",
          "data": {
            "text/plain": [
              "True"
            ]
          },
          "metadata": {},
          "execution_count": 43
        }
      ]
    },
    {
      "cell_type": "code",
      "metadata": {
        "id": "9g11nbHVAGGx",
        "colab": {
          "base_uri": "https://localhost:8080/"
        },
        "outputId": "2e9529a7-79fe-45de-8021-06361762900b"
      },
      "source": [
        "# False\n",
        "a > b"
      ],
      "execution_count": 44,
      "outputs": [
        {
          "output_type": "execute_result",
          "data": {
            "text/plain": [
              "False"
            ]
          },
          "metadata": {},
          "execution_count": 44
        }
      ]
    },
    {
      "cell_type": "code",
      "metadata": {
        "id": "3vb1GxkZUJDk",
        "colab": {
          "base_uri": "https://localhost:8080/"
        },
        "outputId": "600203cf-5816-4b20-e4a1-36e9158fd6db"
      },
      "source": [
        "c = \"빅데이터\"\n",
        "d = \"빅데이터\"\n",
        "e = \"데이터\"\n",
        "\n",
        "print(c==d)\n",
        "print(d==e)"
      ],
      "execution_count": 45,
      "outputs": [
        {
          "output_type": "stream",
          "name": "stdout",
          "text": [
            "True\n",
            "False\n"
          ]
        }
      ]
    },
    {
      "cell_type": "markdown",
      "metadata": {
        "id": "pz4G7EFCT3ow"
      },
      "source": [
        "## 조건문"
      ]
    },
    {
      "cell_type": "markdown",
      "metadata": {
        "id": "LQzrn00LhzhK"
      },
      "source": [
        "- 들여쓰기: tab\n",
        "- 내어쓰기: shift + tab"
      ]
    },
    {
      "cell_type": "code",
      "metadata": {
        "id": "MeetgWilCY_K",
        "colab": {
          "base_uri": "https://localhost:8080/"
        },
        "outputId": "d8316417-8209-4f0f-a8d3-bbfaa42c1c07"
      },
      "source": [
        "# True 조건\n",
        "if True:\n",
        "  print(\"참\")"
      ],
      "execution_count": 46,
      "outputs": [
        {
          "output_type": "stream",
          "name": "stdout",
          "text": [
            "참\n"
          ]
        }
      ]
    },
    {
      "cell_type": "code",
      "metadata": {
        "id": "G2APl1mxDlJ_"
      },
      "source": [
        "# False 조건\n",
        "if False:\n",
        "  print(\"거짓\")"
      ],
      "execution_count": 47,
      "outputs": []
    },
    {
      "cell_type": "code",
      "metadata": {
        "id": "kIu_ng9Kr_Z4",
        "colab": {
          "base_uri": "https://localhost:8080/"
        },
        "outputId": "6ff50679-647a-4c9d-adf8-be0ce0071bb1"
      },
      "source": [
        "# box = 10\n",
        "if box > 5 :\n",
        "  print(\"box가 크다\")"
      ],
      "execution_count": 48,
      "outputs": [
        {
          "output_type": "stream",
          "name": "stdout",
          "text": [
            "box가 크다\n"
          ]
        }
      ]
    },
    {
      "cell_type": "code",
      "metadata": {
        "id": "4T30Y4NN5uD6",
        "colab": {
          "base_uri": "https://localhost:8080/"
        },
        "outputId": "52664a08-2657-49ad-d82f-783931ec92fc"
      },
      "source": [
        "if box == 10:\n",
        "  print(\"box는 10입니다\")\n",
        "  print(\"box\")\n",
        "else:\n",
        "  print(\"box는 10이 아닙니다.\")"
      ],
      "execution_count": 49,
      "outputs": [
        {
          "output_type": "stream",
          "name": "stdout",
          "text": [
            "box는 10이 아닙니다.\n"
          ]
        }
      ]
    },
    {
      "cell_type": "code",
      "metadata": {
        "id": "ivMOAhUe5uKF",
        "colab": {
          "base_uri": "https://localhost:8080/"
        },
        "outputId": "84b5adb7-4065-4343-daa1-0ae0c5b3211e"
      },
      "source": [
        "box = 5\n",
        "\n",
        "if box >= 10:\n",
        "  print(\"box는 10 이상입니다.\")\n",
        "else:\n",
        "  print(\"box는 10 미만입니다.\")"
      ],
      "execution_count": 51,
      "outputs": [
        {
          "output_type": "stream",
          "name": "stdout",
          "text": [
            "box는 10 미만입니다.\n"
          ]
        }
      ]
    },
    {
      "cell_type": "code",
      "metadata": {
        "id": "WtZ_KIo5LHs1",
        "colab": {
          "base_uri": "https://localhost:8080/"
        },
        "outputId": "a305bba2-f887-4f8c-c2c5-2d425d92e9b2"
      },
      "source": [
        "box = 7\n",
        "\n",
        "if box >= 10:\n",
        "  print(\"box는 10이하입니다.\")\n",
        "elif box < 10 and box >= 5:\n",
        "  print(\"box는 5 이상 10 미만입니다.\")\n",
        "else :\n",
        "  print(\"box는 5 미만입니다.\")"
      ],
      "execution_count": 52,
      "outputs": [
        {
          "output_type": "stream",
          "name": "stdout",
          "text": [
            "box는 5 이상 10 미만입니다.\n"
          ]
        }
      ]
    },
    {
      "cell_type": "markdown",
      "metadata": {
        "id": "p8g4MHmalw_S"
      },
      "source": [
        "# 데이터 분석을 위한 파이썬 기초2"
      ]
    },
    {
      "cell_type": "markdown",
      "metadata": {
        "id": "sn96Y4ue8eIh"
      },
      "source": [
        "## 리스트"
      ]
    },
    {
      "cell_type": "code",
      "metadata": {
        "id": "O_XKnj1DfKac"
      },
      "source": [
        "# 여러개의 값을 담을 때 여러개의 변수 사용?\n"
      ],
      "execution_count": null,
      "outputs": []
    },
    {
      "cell_type": "code",
      "metadata": {
        "id": "VZhB5Wyj5uQ9"
      },
      "source": [
        "# 리스트 변수\n"
      ],
      "execution_count": null,
      "outputs": []
    },
    {
      "cell_type": "code",
      "metadata": {
        "id": "yv3-b_gwOwjW"
      },
      "source": [
        "# type\n"
      ],
      "execution_count": null,
      "outputs": []
    },
    {
      "cell_type": "code",
      "metadata": {
        "id": "C6aj7SJl5uTh"
      },
      "source": [
        "# 문자열\n"
      ],
      "execution_count": null,
      "outputs": []
    },
    {
      "cell_type": "code",
      "metadata": {
        "id": "ZZ3IhUFf-4wv"
      },
      "source": [
        "# 추가\n"
      ],
      "execution_count": null,
      "outputs": []
    },
    {
      "cell_type": "code",
      "metadata": {
        "id": "ZculDc6Td-_0"
      },
      "source": [
        "# 정렬\n"
      ],
      "execution_count": null,
      "outputs": []
    },
    {
      "cell_type": "markdown",
      "metadata": {
        "id": "sMaNulq9AeuE"
      },
      "source": [
        "## 딕셔너리(Dictionary)"
      ]
    },
    {
      "cell_type": "code",
      "metadata": {
        "id": "lzuN0U8IAg_A"
      },
      "source": [
        "# 딕셔너리\n"
      ],
      "execution_count": null,
      "outputs": []
    },
    {
      "cell_type": "code",
      "metadata": {
        "id": "W48Flt_fPzPl"
      },
      "source": [
        "# type\n"
      ],
      "execution_count": null,
      "outputs": []
    },
    {
      "cell_type": "code",
      "metadata": {
        "id": "0GHQkolTAhBz"
      },
      "source": [
        "# 키(key)로 값 출력하기\n"
      ],
      "execution_count": null,
      "outputs": []
    },
    {
      "cell_type": "code",
      "metadata": {
        "id": "K2aPJAQEzqoW"
      },
      "source": [
        "# 값 변경하기\n"
      ],
      "execution_count": null,
      "outputs": []
    },
    {
      "cell_type": "code",
      "metadata": {
        "id": "o0WZq19xzyyk"
      },
      "source": [
        "# 키 값\n"
      ],
      "execution_count": null,
      "outputs": []
    },
    {
      "cell_type": "code",
      "metadata": {
        "id": "Fo8xrNgmz4kX"
      },
      "source": [
        "# 밸류 값\n"
      ],
      "execution_count": null,
      "outputs": []
    },
    {
      "cell_type": "markdown",
      "metadata": {
        "id": "tHba7NxMsY-r"
      },
      "source": [
        "## 인덱싱과 슬라이싱"
      ]
    },
    {
      "cell_type": "code",
      "metadata": {
        "id": "X3jgCz-KXAHt"
      },
      "source": [
        "# listbox = [2,4,6,8,10]\n"
      ],
      "execution_count": null,
      "outputs": []
    },
    {
      "cell_type": "code",
      "metadata": {
        "id": "lmi4cQp-memb"
      },
      "source": [
        "# index 마지막 값\n"
      ],
      "execution_count": null,
      "outputs": []
    },
    {
      "cell_type": "code",
      "metadata": {
        "id": "wrjMxzGosXZ-"
      },
      "source": [
        "# list[start:stop]\n"
      ],
      "execution_count": null,
      "outputs": []
    },
    {
      "cell_type": "code",
      "metadata": {
        "id": "GFY0NdKSW5A-"
      },
      "source": [
        "# index 3부터 끝까지\n"
      ],
      "execution_count": null,
      "outputs": []
    },
    {
      "cell_type": "code",
      "metadata": {
        "id": "-fnC4D-HW5E2"
      },
      "source": [
        "# index 1부터 2까지\n"
      ],
      "execution_count": null,
      "outputs": []
    },
    {
      "cell_type": "code",
      "metadata": {
        "id": "3l7vc-WEmEjL"
      },
      "source": [
        "# list[start:stop:step]\n"
      ],
      "execution_count": null,
      "outputs": []
    },
    {
      "cell_type": "markdown",
      "metadata": {
        "id": "88qGNAwFU36g"
      },
      "source": [
        "## 내장 함수"
      ]
    },
    {
      "cell_type": "code",
      "metadata": {
        "id": "r4mkP9Q0VWay"
      },
      "source": [
        "# 합계\n"
      ],
      "execution_count": null,
      "outputs": []
    },
    {
      "cell_type": "code",
      "metadata": {
        "id": "KesjV3w0U774"
      },
      "source": [
        "# 최대값\n"
      ],
      "execution_count": null,
      "outputs": []
    },
    {
      "cell_type": "code",
      "metadata": {
        "id": "qlxoqmVrVmIi"
      },
      "source": [
        "# 최소값\n"
      ],
      "execution_count": null,
      "outputs": []
    },
    {
      "cell_type": "code",
      "metadata": {
        "id": "nWOmvtLrVjvN"
      },
      "source": [
        "# 길이(갯수)\n"
      ],
      "execution_count": null,
      "outputs": []
    },
    {
      "cell_type": "code",
      "metadata": {
        "id": "UfHaZY7Y1Cf8"
      },
      "source": [
        "# 반올림\n"
      ],
      "execution_count": null,
      "outputs": []
    },
    {
      "cell_type": "markdown",
      "metadata": {
        "id": "60a8CfviXNzB"
      },
      "source": [
        "## 문자열"
      ]
    },
    {
      "cell_type": "markdown",
      "metadata": {
        "id": "GC88pkXCVtXW"
      },
      "source": [
        "### 문자열 변경"
      ]
    },
    {
      "cell_type": "code",
      "metadata": {
        "id": "4v6OZg0beGNn"
      },
      "source": [
        "# 한 단어 변경\n"
      ],
      "execution_count": null,
      "outputs": []
    },
    {
      "cell_type": "code",
      "metadata": {
        "id": "TWaRdm59euuw"
      },
      "source": [
        "# 여러 단어 변경\n"
      ],
      "execution_count": null,
      "outputs": []
    },
    {
      "cell_type": "markdown",
      "metadata": {
        "id": "tJ4TMr1Zr3uk"
      },
      "source": [
        "### 문자열 슬라이싱"
      ]
    },
    {
      "cell_type": "code",
      "metadata": {
        "id": "i8nqO6HRr6Rp"
      },
      "source": [
        "text = \"안녕하세요 퇴근후딴짓입니다.\""
      ],
      "execution_count": null,
      "outputs": []
    },
    {
      "cell_type": "code",
      "metadata": {
        "id": "dNByNy7br6VV"
      },
      "source": [
        "# 문자열 슬라이싱\n"
      ],
      "execution_count": null,
      "outputs": []
    },
    {
      "cell_type": "code",
      "metadata": {
        "id": "-Gn-Q-m2sOG7"
      },
      "source": [
        "# 월-일\n",
        "# date = \"2022-12-25\"\n"
      ],
      "execution_count": null,
      "outputs": []
    },
    {
      "cell_type": "markdown",
      "metadata": {
        "id": "O1QnE6ZaliuP"
      },
      "source": [
        "## 슬라이싱 연습"
      ]
    },
    {
      "cell_type": "code",
      "metadata": {
        "id": "XfmS7lTjsY-H"
      },
      "source": [
        "# 월만 출력\n",
        "# date = \"2022-12-25\"\n"
      ],
      "execution_count": null,
      "outputs": []
    },
    {
      "cell_type": "code",
      "metadata": {
        "id": "veDH5XwYixWa"
      },
      "source": [
        "listbox = [\"감사\", \"행복\", \"사랑\", \"습관\", \"긍정\", \"변화\", \"성장\", \"공감\", \"희망\"]\n",
        "listbox"
      ],
      "execution_count": null,
      "outputs": []
    },
    {
      "cell_type": "code",
      "metadata": {
        "id": "rfSu6rBmyLy2"
      },
      "source": [
        "# 갯 수\n"
      ],
      "execution_count": null,
      "outputs": []
    },
    {
      "cell_type": "code",
      "metadata": {
        "id": "MnDYQUT9yL34"
      },
      "source": [
        "# 첫번째 값\n"
      ],
      "execution_count": null,
      "outputs": []
    },
    {
      "cell_type": "code",
      "metadata": {
        "id": "5rLvXDMRyL7P"
      },
      "source": [
        "# 마지막 값\n"
      ],
      "execution_count": null,
      "outputs": []
    },
    {
      "cell_type": "code",
      "metadata": {
        "id": "rHQxUcJ5yL-H"
      },
      "source": [
        "# 처음부터 세번째 값까지\n"
      ],
      "execution_count": null,
      "outputs": []
    },
    {
      "cell_type": "code",
      "metadata": {
        "id": "BagzzxLTyMAv"
      },
      "source": [
        "# 마지막 앞 단어\n"
      ],
      "execution_count": null,
      "outputs": []
    },
    {
      "cell_type": "code",
      "metadata": {
        "id": "mvN74XUIyMDq"
      },
      "source": [
        "# 행복과 사랑만 출력\n"
      ],
      "execution_count": null,
      "outputs": []
    },
    {
      "cell_type": "markdown",
      "metadata": {
        "id": "TO3l-lN_yMqM"
      },
      "source": [
        "### 풀이"
      ]
    },
    {
      "cell_type": "code",
      "metadata": {
        "id": "lPFvMHhVuGZ0"
      },
      "source": [
        "# 갯 수\n",
        "# len(listbox)"
      ],
      "execution_count": null,
      "outputs": []
    },
    {
      "cell_type": "code",
      "metadata": {
        "id": "xeDlrQnHuZu8"
      },
      "source": [
        "# 첫번째 값\n",
        "# listbox[0]"
      ],
      "execution_count": null,
      "outputs": []
    },
    {
      "cell_type": "code",
      "metadata": {
        "id": "X9ekhyU3vIng"
      },
      "source": [
        "# 마지막 값\n",
        "# listbox[-1]"
      ],
      "execution_count": null,
      "outputs": []
    },
    {
      "cell_type": "code",
      "metadata": {
        "id": "E77pYhgsuV4C"
      },
      "source": [
        "# 처음부터 세번째 값까지\n",
        "# listbox[:3]"
      ],
      "execution_count": null,
      "outputs": []
    },
    {
      "cell_type": "code",
      "metadata": {
        "id": "Lnr-3gUhuKhB"
      },
      "source": [
        "# 마지막 앞 단어\n",
        "# listbox[7:8]\n",
        "# listbox[7:-1]\n",
        "# listbox[-2:-1]"
      ],
      "execution_count": null,
      "outputs": []
    },
    {
      "cell_type": "code",
      "metadata": {
        "id": "C_P8l56RvQuB"
      },
      "source": [
        "# 행복과 사랑만 출력\n",
        "# listbox[1:3]"
      ],
      "execution_count": null,
      "outputs": []
    },
    {
      "cell_type": "markdown",
      "metadata": {
        "id": "bXgmN4vtiO03"
      },
      "source": [
        "# 자주 활용되는 파이썬 예제"
      ]
    },
    {
      "cell_type": "markdown",
      "metadata": {
        "id": "EXgwKIeQ9LSc"
      },
      "source": [
        "## 반복문"
      ]
    },
    {
      "cell_type": "code",
      "metadata": {
        "id": "xSa4BJrlC5gl"
      },
      "source": [
        "# 0부터 4까지 반복 출력\n"
      ],
      "execution_count": null,
      "outputs": []
    },
    {
      "cell_type": "code",
      "metadata": {
        "id": "AYO-Jaunw92V"
      },
      "source": [
        "# 5부터 9까지 반복 출력\n"
      ],
      "execution_count": null,
      "outputs": []
    },
    {
      "cell_type": "code",
      "metadata": {
        "id": "xOe8qt-G5uVv"
      },
      "source": [
        "# 리스트에 있는 값, 반복문을 통해 출력\n",
        "listbox = [2,4,6,8,10]\n"
      ],
      "execution_count": null,
      "outputs": []
    },
    {
      "cell_type": "code",
      "metadata": {
        "id": "-e3ldxTl9fC2"
      },
      "source": [
        "# 리스트에 있는 값 반복문을 통해 +1 한 값, 출력\n",
        "listbox = [2,4,6,8,10]\n"
      ],
      "execution_count": null,
      "outputs": []
    },
    {
      "cell_type": "code",
      "metadata": {
        "id": "8FfABDZt9QL2"
      },
      "source": [
        "# 리스트에 있는 문자열 출력\n",
        "listbox = ['네모','세모','동그라미']\n"
      ],
      "execution_count": null,
      "outputs": []
    },
    {
      "cell_type": "code",
      "metadata": {
        "id": "HbAA3JX11HBu"
      },
      "source": [
        "# 리스트에 있는 문자열과 인덱스값 출력\n",
        "listbox = ['네모','세모','동그라미', '별']\n"
      ],
      "execution_count": null,
      "outputs": []
    },
    {
      "cell_type": "code",
      "metadata": {
        "id": "8dkdcNRI2tUu"
      },
      "source": [
        "# Tip (print(f스트링))\n"
      ],
      "execution_count": null,
      "outputs": []
    },
    {
      "cell_type": "markdown",
      "metadata": {
        "id": "bcxCI9tCvzAU"
      },
      "source": [
        "### Quiz"
      ]
    },
    {
      "cell_type": "code",
      "metadata": {
        "id": "FnDj6uJ7ixCz"
      },
      "source": [
        "# 리스트에 있는 name, age, phone 컬럼명을 반복문을 통해 출력하시오\n",
        "cols = ['name', 'age', 'phone']\n"
      ],
      "execution_count": null,
      "outputs": []
    },
    {
      "cell_type": "markdown",
      "metadata": {
        "id": "j7bxnMRkCvee"
      },
      "source": [
        "## 함수"
      ]
    },
    {
      "cell_type": "markdown",
      "metadata": {
        "id": "xwknzPFZqLC9"
      },
      "source": [
        "### 기본함수"
      ]
    },
    {
      "cell_type": "code",
      "metadata": {
        "id": "v-5HTz-UoCrC"
      },
      "source": [
        "# 함수 정의\n"
      ],
      "execution_count": null,
      "outputs": []
    },
    {
      "cell_type": "code",
      "metadata": {
        "id": "XLcJacqLoOKV"
      },
      "source": [
        "# 함수 호출\n"
      ],
      "execution_count": null,
      "outputs": []
    },
    {
      "cell_type": "markdown",
      "metadata": {
        "id": "m8UUcfokqNDe"
      },
      "source": [
        "### 함수(파라미터)"
      ]
    },
    {
      "cell_type": "code",
      "metadata": {
        "id": "T5ZMWdSLW0RD"
      },
      "source": [
        "# 함수 정의 (파라미터)\n"
      ],
      "execution_count": null,
      "outputs": []
    },
    {
      "cell_type": "code",
      "metadata": {
        "id": "4bNKvl97Wx_N"
      },
      "source": [
        "# 함수 호출\n"
      ],
      "execution_count": null,
      "outputs": []
    },
    {
      "cell_type": "markdown",
      "metadata": {
        "id": "EmP4p9izqREt"
      },
      "source": [
        "### 함수(리턴 값)"
      ]
    },
    {
      "cell_type": "code",
      "metadata": {
        "id": "QbUnPQhtpYBN"
      },
      "source": [
        "# 함수 정의 (리턴 값)\n"
      ],
      "execution_count": null,
      "outputs": []
    },
    {
      "cell_type": "code",
      "metadata": {
        "id": "WRli89l4pYK2"
      },
      "source": [
        "# 함수 호출\n"
      ],
      "execution_count": null,
      "outputs": []
    },
    {
      "cell_type": "code",
      "metadata": {
        "id": "Mvx-fayoplXp"
      },
      "source": [
        "# 리턴 값 받기\n"
      ],
      "execution_count": null,
      "outputs": []
    },
    {
      "cell_type": "code",
      "metadata": {
        "id": "AcTLatFGwXV9"
      },
      "source": [
        "# 리턴값이 2개 (최소, 최대값을 구하는 함수)\n",
        "listbox = [15, 46, 78, 24, 56]\n"
      ],
      "execution_count": null,
      "outputs": []
    },
    {
      "cell_type": "code",
      "metadata": {
        "id": "s0AfIdrZ5Vkg"
      },
      "source": [
        "# 평균을 구하는 함수\n",
        "listbox = [15, 46, 78, 24, 56]\n"
      ],
      "execution_count": null,
      "outputs": []
    },
    {
      "cell_type": "markdown",
      "metadata": {
        "id": "XoOMduOnwAGU"
      },
      "source": [
        "### Quiz"
      ]
    },
    {
      "cell_type": "code",
      "metadata": {
        "id": "jJD-lq6mwDfs"
      },
      "source": [
        "# 주어진 리스트의 최대값 - 최소값을 구하는 함수를 만드시오\n",
        "# listbox = [15, 46, 78, 24, 56]\n"
      ],
      "execution_count": null,
      "outputs": []
    },
    {
      "cell_type": "code",
      "metadata": {
        "id": "u33Z_1iyvNfw"
      },
      "source": [],
      "execution_count": null,
      "outputs": []
    }
  ]
}